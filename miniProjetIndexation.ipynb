{
  "nbformat": 4,
  "nbformat_minor": 0,
  "metadata": {
    "colab": {
      "provenance": [],
      "include_colab_link": true
    },
    "kernelspec": {
      "name": "python3",
      "display_name": "Python 3"
    },
    "language_info": {
      "name": "python"
    },
    "widgets": {
      "application/vnd.jupyter.widget-state+json": {
        "17c9efb3bc0f4b4685e5f62b2d947f19": {
          "model_module": "@jupyter-widgets/controls",
          "model_name": "LabelModel",
          "model_module_version": "1.5.0",
          "state": {
            "_dom_classes": [],
            "_model_module": "@jupyter-widgets/controls",
            "_model_module_version": "1.5.0",
            "_model_name": "LabelModel",
            "_view_count": null,
            "_view_module": "@jupyter-widgets/controls",
            "_view_module_version": "1.5.0",
            "_view_name": "LabelView",
            "description": "",
            "description_tooltip": null,
            "layout": "IPY_MODEL_d6a80cae86d54b60aa678c2f37d7d92f",
            "placeholder": "​",
            "style": "IPY_MODEL_b78e636ee9a64630ad95dfcf95380463",
            "value": " Saisissez votre mot"
          }
        },
        "d6a80cae86d54b60aa678c2f37d7d92f": {
          "model_module": "@jupyter-widgets/base",
          "model_name": "LayoutModel",
          "model_module_version": "1.2.0",
          "state": {
            "_model_module": "@jupyter-widgets/base",
            "_model_module_version": "1.2.0",
            "_model_name": "LayoutModel",
            "_view_count": null,
            "_view_module": "@jupyter-widgets/base",
            "_view_module_version": "1.2.0",
            "_view_name": "LayoutView",
            "align_content": null,
            "align_items": null,
            "align_self": null,
            "border": null,
            "bottom": null,
            "display": null,
            "flex": null,
            "flex_flow": null,
            "grid_area": null,
            "grid_auto_columns": null,
            "grid_auto_flow": null,
            "grid_auto_rows": null,
            "grid_column": null,
            "grid_gap": null,
            "grid_row": null,
            "grid_template_areas": null,
            "grid_template_columns": null,
            "grid_template_rows": null,
            "height": null,
            "justify_content": null,
            "justify_items": null,
            "left": null,
            "margin": null,
            "max_height": null,
            "max_width": null,
            "min_height": null,
            "min_width": null,
            "object_fit": null,
            "object_position": null,
            "order": null,
            "overflow": null,
            "overflow_x": null,
            "overflow_y": null,
            "padding": null,
            "right": null,
            "top": null,
            "visibility": null,
            "width": null
          }
        },
        "b78e636ee9a64630ad95dfcf95380463": {
          "model_module": "@jupyter-widgets/controls",
          "model_name": "DescriptionStyleModel",
          "model_module_version": "1.5.0",
          "state": {
            "_model_module": "@jupyter-widgets/controls",
            "_model_module_version": "1.5.0",
            "_model_name": "DescriptionStyleModel",
            "_view_count": null,
            "_view_module": "@jupyter-widgets/base",
            "_view_module_version": "1.2.0",
            "_view_name": "StyleView",
            "description_width": ""
          }
        },
        "1403abe1c1f4449392595a4305dda271": {
          "model_module": "@jupyter-widgets/controls",
          "model_name": "TextModel",
          "model_module_version": "1.5.0",
          "state": {
            "_dom_classes": [],
            "_model_module": "@jupyter-widgets/controls",
            "_model_module_version": "1.5.0",
            "_model_name": "TextModel",
            "_view_count": null,
            "_view_module": "@jupyter-widgets/controls",
            "_view_module_version": "1.5.0",
            "_view_name": "TextView",
            "continuous_update": true,
            "description": "mot:",
            "description_tooltip": null,
            "disabled": false,
            "layout": "IPY_MODEL_6c8637bc33ae4967993fbe5dbcf30a09",
            "placeholder": "​",
            "style": "IPY_MODEL_24621900d4a049d2bbed5192b607b1c2",
            "value": "tennis"
          }
        },
        "6c8637bc33ae4967993fbe5dbcf30a09": {
          "model_module": "@jupyter-widgets/base",
          "model_name": "LayoutModel",
          "model_module_version": "1.2.0",
          "state": {
            "_model_module": "@jupyter-widgets/base",
            "_model_module_version": "1.2.0",
            "_model_name": "LayoutModel",
            "_view_count": null,
            "_view_module": "@jupyter-widgets/base",
            "_view_module_version": "1.2.0",
            "_view_name": "LayoutView",
            "align_content": null,
            "align_items": null,
            "align_self": null,
            "border": null,
            "bottom": null,
            "display": null,
            "flex": null,
            "flex_flow": null,
            "grid_area": null,
            "grid_auto_columns": null,
            "grid_auto_flow": null,
            "grid_auto_rows": null,
            "grid_column": null,
            "grid_gap": null,
            "grid_row": null,
            "grid_template_areas": null,
            "grid_template_columns": null,
            "grid_template_rows": null,
            "height": null,
            "justify_content": null,
            "justify_items": null,
            "left": null,
            "margin": null,
            "max_height": null,
            "max_width": null,
            "min_height": null,
            "min_width": null,
            "object_fit": null,
            "object_position": null,
            "order": null,
            "overflow": null,
            "overflow_x": null,
            "overflow_y": null,
            "padding": null,
            "right": null,
            "top": null,
            "visibility": null,
            "width": null
          }
        },
        "24621900d4a049d2bbed5192b607b1c2": {
          "model_module": "@jupyter-widgets/controls",
          "model_name": "DescriptionStyleModel",
          "model_module_version": "1.5.0",
          "state": {
            "_model_module": "@jupyter-widgets/controls",
            "_model_module_version": "1.5.0",
            "_model_name": "DescriptionStyleModel",
            "_view_count": null,
            "_view_module": "@jupyter-widgets/base",
            "_view_module_version": "1.2.0",
            "_view_name": "StyleView",
            "description_width": ""
          }
        },
        "556dccc0f8614ef6a108cc6f6183cf87": {
          "model_module": "@jupyter-widgets/controls",
          "model_name": "ButtonModel",
          "model_module_version": "1.5.0",
          "state": {
            "_dom_classes": [],
            "_model_module": "@jupyter-widgets/controls",
            "_model_module_version": "1.5.0",
            "_model_name": "ButtonModel",
            "_view_count": null,
            "_view_module": "@jupyter-widgets/controls",
            "_view_module_version": "1.5.0",
            "_view_name": "ButtonView",
            "button_style": "",
            "description": "recherche",
            "disabled": false,
            "icon": "",
            "layout": "IPY_MODEL_f91cd6f62ec44e8e830953cc18329ce8",
            "style": "IPY_MODEL_2c65bdd5c03044479b607f0c68e87136",
            "tooltip": ""
          }
        },
        "f91cd6f62ec44e8e830953cc18329ce8": {
          "model_module": "@jupyter-widgets/base",
          "model_name": "LayoutModel",
          "model_module_version": "1.2.0",
          "state": {
            "_model_module": "@jupyter-widgets/base",
            "_model_module_version": "1.2.0",
            "_model_name": "LayoutModel",
            "_view_count": null,
            "_view_module": "@jupyter-widgets/base",
            "_view_module_version": "1.2.0",
            "_view_name": "LayoutView",
            "align_content": null,
            "align_items": null,
            "align_self": null,
            "border": null,
            "bottom": null,
            "display": null,
            "flex": null,
            "flex_flow": null,
            "grid_area": null,
            "grid_auto_columns": null,
            "grid_auto_flow": null,
            "grid_auto_rows": null,
            "grid_column": null,
            "grid_gap": null,
            "grid_row": null,
            "grid_template_areas": null,
            "grid_template_columns": null,
            "grid_template_rows": null,
            "height": null,
            "justify_content": null,
            "justify_items": null,
            "left": null,
            "margin": null,
            "max_height": null,
            "max_width": null,
            "min_height": null,
            "min_width": null,
            "object_fit": null,
            "object_position": null,
            "order": null,
            "overflow": null,
            "overflow_x": null,
            "overflow_y": null,
            "padding": null,
            "right": null,
            "top": null,
            "visibility": null,
            "width": null
          }
        },
        "2c65bdd5c03044479b607f0c68e87136": {
          "model_module": "@jupyter-widgets/controls",
          "model_name": "ButtonStyleModel",
          "model_module_version": "1.5.0",
          "state": {
            "_model_module": "@jupyter-widgets/controls",
            "_model_module_version": "1.5.0",
            "_model_name": "ButtonStyleModel",
            "_view_count": null,
            "_view_module": "@jupyter-widgets/base",
            "_view_module_version": "1.2.0",
            "_view_name": "StyleView",
            "button_color": null,
            "font_weight": ""
          }
        }
      }
    }
  },
  "cells": [
    {
      "cell_type": "markdown",
      "metadata": {
        "id": "view-in-github",
        "colab_type": "text"
      },
      "source": [
        "<a href=\"https://colab.research.google.com/github/gEmna123/Mini_Projet_Indexation/blob/main/miniProjetIndexation.ipynb\" target=\"_parent\"><img src=\"https://colab.research.google.com/assets/colab-badge.svg\" alt=\"Open In Colab\"/></a>"
      ]
    },
    {
      "cell_type": "code",
      "execution_count": null,
      "metadata": {
        "colab": {
          "base_uri": "https://localhost:8080/"
        },
        "id": "CuZUpt679tgf",
        "outputId": "eb8a26e1-7e8b-4d30-dc60-93210ed2fb58"
      },
      "outputs": [
        {
          "output_type": "stream",
          "name": "stdout",
          "text": [
            "Mounted at /content/drive\n"
          ]
        }
      ],
      "source": [
        "from google.colab import drive\n",
        "drive.mount('/content/drive')"
      ]
    },
    {
      "cell_type": "code",
      "source": [
        "import nltk\n",
        "nltk.download(\"book\")"
      ],
      "metadata": {
        "colab": {
          "base_uri": "https://localhost:8080/"
        },
        "id": "1e__htks_N6p",
        "outputId": "42fa3b87-8c28-4087-9467-3adc8b818b0b"
      },
      "execution_count": null,
      "outputs": [
        {
          "output_type": "stream",
          "name": "stderr",
          "text": [
            "[nltk_data] Downloading collection 'book'\n",
            "[nltk_data]    | \n",
            "[nltk_data]    | Downloading package abc to /root/nltk_data...\n",
            "[nltk_data]    |   Unzipping corpora/abc.zip.\n",
            "[nltk_data]    | Downloading package brown to /root/nltk_data...\n",
            "[nltk_data]    |   Unzipping corpora/brown.zip.\n",
            "[nltk_data]    | Downloading package chat80 to /root/nltk_data...\n",
            "[nltk_data]    |   Unzipping corpora/chat80.zip.\n",
            "[nltk_data]    | Downloading package cmudict to /root/nltk_data...\n",
            "[nltk_data]    |   Unzipping corpora/cmudict.zip.\n",
            "[nltk_data]    | Downloading package conll2000 to /root/nltk_data...\n",
            "[nltk_data]    |   Unzipping corpora/conll2000.zip.\n",
            "[nltk_data]    | Downloading package conll2002 to /root/nltk_data...\n",
            "[nltk_data]    |   Unzipping corpora/conll2002.zip.\n",
            "[nltk_data]    | Downloading package dependency_treebank to\n",
            "[nltk_data]    |     /root/nltk_data...\n",
            "[nltk_data]    |   Unzipping corpora/dependency_treebank.zip.\n",
            "[nltk_data]    | Downloading package genesis to /root/nltk_data...\n",
            "[nltk_data]    |   Unzipping corpora/genesis.zip.\n",
            "[nltk_data]    | Downloading package gutenberg to /root/nltk_data...\n",
            "[nltk_data]    |   Unzipping corpora/gutenberg.zip.\n",
            "[nltk_data]    | Downloading package ieer to /root/nltk_data...\n",
            "[nltk_data]    |   Unzipping corpora/ieer.zip.\n",
            "[nltk_data]    | Downloading package inaugural to /root/nltk_data...\n",
            "[nltk_data]    |   Unzipping corpora/inaugural.zip.\n",
            "[nltk_data]    | Downloading package movie_reviews to\n",
            "[nltk_data]    |     /root/nltk_data...\n",
            "[nltk_data]    |   Unzipping corpora/movie_reviews.zip.\n",
            "[nltk_data]    | Downloading package nps_chat to /root/nltk_data...\n",
            "[nltk_data]    |   Unzipping corpora/nps_chat.zip.\n",
            "[nltk_data]    | Downloading package names to /root/nltk_data...\n",
            "[nltk_data]    |   Unzipping corpora/names.zip.\n",
            "[nltk_data]    | Downloading package ppattach to /root/nltk_data...\n",
            "[nltk_data]    |   Unzipping corpora/ppattach.zip.\n",
            "[nltk_data]    | Downloading package reuters to /root/nltk_data...\n",
            "[nltk_data]    | Downloading package senseval to /root/nltk_data...\n",
            "[nltk_data]    |   Unzipping corpora/senseval.zip.\n",
            "[nltk_data]    | Downloading package state_union to /root/nltk_data...\n",
            "[nltk_data]    |   Unzipping corpora/state_union.zip.\n",
            "[nltk_data]    | Downloading package stopwords to /root/nltk_data...\n",
            "[nltk_data]    |   Unzipping corpora/stopwords.zip.\n",
            "[nltk_data]    | Downloading package swadesh to /root/nltk_data...\n",
            "[nltk_data]    |   Unzipping corpora/swadesh.zip.\n",
            "[nltk_data]    | Downloading package timit to /root/nltk_data...\n",
            "[nltk_data]    |   Unzipping corpora/timit.zip.\n",
            "[nltk_data]    | Downloading package treebank to /root/nltk_data...\n",
            "[nltk_data]    |   Unzipping corpora/treebank.zip.\n",
            "[nltk_data]    | Downloading package toolbox to /root/nltk_data...\n",
            "[nltk_data]    |   Unzipping corpora/toolbox.zip.\n",
            "[nltk_data]    | Downloading package udhr to /root/nltk_data...\n",
            "[nltk_data]    |   Unzipping corpora/udhr.zip.\n",
            "[nltk_data]    | Downloading package udhr2 to /root/nltk_data...\n",
            "[nltk_data]    |   Unzipping corpora/udhr2.zip.\n",
            "[nltk_data]    | Downloading package unicode_samples to\n",
            "[nltk_data]    |     /root/nltk_data...\n",
            "[nltk_data]    |   Unzipping corpora/unicode_samples.zip.\n",
            "[nltk_data]    | Downloading package webtext to /root/nltk_data...\n",
            "[nltk_data]    |   Unzipping corpora/webtext.zip.\n",
            "[nltk_data]    | Downloading package wordnet to /root/nltk_data...\n",
            "[nltk_data]    | Downloading package wordnet_ic to /root/nltk_data...\n",
            "[nltk_data]    |   Unzipping corpora/wordnet_ic.zip.\n",
            "[nltk_data]    | Downloading package words to /root/nltk_data...\n",
            "[nltk_data]    |   Unzipping corpora/words.zip.\n",
            "[nltk_data]    | Downloading package maxent_treebank_pos_tagger to\n",
            "[nltk_data]    |     /root/nltk_data...\n",
            "[nltk_data]    |   Unzipping taggers/maxent_treebank_pos_tagger.zip.\n",
            "[nltk_data]    | Downloading package maxent_ne_chunker to\n",
            "[nltk_data]    |     /root/nltk_data...\n",
            "[nltk_data]    |   Unzipping chunkers/maxent_ne_chunker.zip.\n",
            "[nltk_data]    | Downloading package universal_tagset to\n",
            "[nltk_data]    |     /root/nltk_data...\n",
            "[nltk_data]    |   Unzipping taggers/universal_tagset.zip.\n",
            "[nltk_data]    | Downloading package punkt to /root/nltk_data...\n",
            "[nltk_data]    |   Unzipping tokenizers/punkt.zip.\n",
            "[nltk_data]    | Downloading package book_grammars to\n",
            "[nltk_data]    |     /root/nltk_data...\n",
            "[nltk_data]    |   Unzipping grammars/book_grammars.zip.\n",
            "[nltk_data]    | Downloading package city_database to\n",
            "[nltk_data]    |     /root/nltk_data...\n",
            "[nltk_data]    |   Unzipping corpora/city_database.zip.\n",
            "[nltk_data]    | Downloading package tagsets to /root/nltk_data...\n",
            "[nltk_data]    |   Unzipping help/tagsets.zip.\n",
            "[nltk_data]    | Downloading package panlex_swadesh to\n",
            "[nltk_data]    |     /root/nltk_data...\n",
            "[nltk_data]    | Downloading package averaged_perceptron_tagger to\n",
            "[nltk_data]    |     /root/nltk_data...\n",
            "[nltk_data]    |   Unzipping taggers/averaged_perceptron_tagger.zip.\n",
            "[nltk_data]    | \n",
            "[nltk_data]  Done downloading collection book\n"
          ]
        },
        {
          "output_type": "execute_result",
          "data": {
            "text/plain": [
              "True"
            ]
          },
          "metadata": {},
          "execution_count": 2
        }
      ]
    },
    {
      "cell_type": "code",
      "source": [
        "from nltk.tokenize import sent_tokenize, word_tokenize"
      ],
      "metadata": {
        "id": "vsl6XiP4EG83"
      },
      "execution_count": null,
      "outputs": []
    },
    {
      "cell_type": "code",
      "source": [
        "from nltk.corpus import stopwords"
      ],
      "metadata": {
        "id": "YqVSwPZSEQbo"
      },
      "execution_count": null,
      "outputs": []
    },
    {
      "cell_type": "code",
      "source": [
        "from nltk.tokenize import sent_tokenize, word_tokenize\n",
        "from nltk.corpus import stopwords\n",
        "from nltk.stem import PorterStemmer\n",
        "def indexation(ch):\n",
        "  f = open(ch,\"r\")\n",
        "  doc=f.read()\n",
        "  word_tokens=word_tokenize(doc)\n",
        "  stop_words=stopwords.words('english')\n",
        "  filtered_text = []\n",
        "  for w in word_tokens:\n",
        "   if w not in stop_words:\n",
        "     filtered_text.append(w)\n",
        "  index=[]\n",
        "  ps = PorterStemmer()\n",
        "  for w in filtered_text:\n",
        "      index.append(ps.stem(w))\n",
        "  return index"
      ],
      "metadata": {
        "id": "m94ykuJ_Eaa1"
      },
      "execution_count": null,
      "outputs": []
    },
    {
      "cell_type": "code",
      "source": [
        "sport=indexation(\"/content/drive/MyDrive/miniprojet/sport.txt\")\n",
        "tennis=indexation(\"/content/drive/MyDrive/miniprojet/tennis.txt\")\n",
        "basket=indexation(\"/content/drive/MyDrive/miniprojet/basket.txt\")\n",
        "equitation=indexation(\"/content/drive/MyDrive/miniprojet/equitation.txt\")\n",
        "football=indexation(\"/content/drive/MyDrive/miniprojet/football.txt\")\n",
        "\n"
      ],
      "metadata": {
        "id": "bqUnJ6GclMGg"
      },
      "execution_count": null,
      "outputs": []
    },
    {
      "cell_type": "code",
      "source": [
        "corpus = {\n",
        "    \"sport\": sport,\n",
        "    \"tennis\": tennis,\n",
        "    \"basket\": basket,\n",
        "    \"equitation\":equitation ,\n",
        "    \"football\":football\n",
        "}\n"
      ],
      "metadata": {
        "id": "TumIOSrTXkty"
      },
      "execution_count": null,
      "outputs": []
    },
    {
      "cell_type": "code",
      "source": [
        "def listDocument(mot,motO):\n",
        "     nb=0\n",
        "     print(\"le mot '\",motO,\"' exist dans :\")\n",
        "     for nom, doc in corpus.items():\n",
        "        if mot in doc:\n",
        "            print(\"\\t* Le document\", nom)\n",
        "            nb+=1\n",
        "     if nb==0:\n",
        "      print(\"dans aucun document\")\n",
        "     return nb"
      ],
      "metadata": {
        "id": "ZyG7g7-AQ5mj"
      },
      "execution_count": null,
      "outputs": []
    },
    {
      "cell_type": "code",
      "source": [
        "def nboccurence(mot,motO):\n",
        "     nbocc=[]\n",
        "     for nom, doc in corpus.items():\n",
        "       all_words = []\n",
        "       for w in doc:\n",
        "          all_words.append(w.lower())\n",
        "       all_words = nltk.FreqDist(all_words)\n",
        "       print(\"le mot '\",motO,\"' exist dans Le document\", nom,\" '\",all_words[mot],\"fois'\")\n",
        "       nbocc.append(all_words[mot])\n",
        "     return nbocc\n"
      ],
      "metadata": {
        "id": "hVkh0jp6bfDs"
      },
      "execution_count": null,
      "outputs": []
    },
    {
      "cell_type": "code",
      "source": [
        "import math\n",
        "\n",
        "def poids_tfidf(mot,motO,df,nbocc):\n",
        "  mytexts = nltk.TextCollection([sport,tennis,basket,equitation,football])\n",
        "\n",
        "  poids = {\n",
        "    \"sport\": nbocc[0],\n",
        "    \"tennis\": nbocc[1],\n",
        "    \"basket\": nbocc[2],\n",
        "    \"equitation\":nbocc[3] ,\n",
        "    \"football\":nbocc[4],\n",
        "   }\n",
        "\n",
        "  if df==0:\n",
        "     print(\"poids du mot\" ,motO,\" in document \" ,cle,\" =\",0)\n",
        "  else:\n",
        "   for cle, valeur in poids.items():\n",
        "    if valeur==0:\n",
        "         print(\"poids du mot\" ,motO,\" in document \" ,cle,\" =\", 0)\n",
        "    else:\n",
        "      p= (1 + math.log(valeur)) * math.log(5 /df)\n",
        "      print(\"poids du mot\" ,motO,\" in document \" ,cle,\" =\", p)\n",
        "\n",
        "  print(\"**************************************************************\")\n",
        "\n",
        "  tf_idf=mytexts.tf_idf(mot,sport)\n",
        "  poids[\"sport\"]=(tf_idf)\n",
        "  print(\"tf_idf of \",motO,\" in document sport is\", tf_idf)\n",
        "  tf_idf=mytexts.tf_idf(mot,tennis)\n",
        "  poids[\"tennis\"]=(tf_idf)\n",
        "  print(\"tf_idf of \",motO,\" in document tennis is\", tf_idf)\n",
        "  tf_idf=mytexts.tf_idf(mot,basket)\n",
        "  poids[\"basket\"]=(tf_idf)\n",
        "  print(\"tf_idf of \",motO,\" in document basket is\", tf_idf)\n",
        "  tf_idf=mytexts.tf_idf(mot,equitation)\n",
        "  poids[\"equitation\"]=(tf_idf)\n",
        "  print(\"tf_idf of \",motO,\" in document equitation is\", tf_idf)\n",
        "  tf_idf=mytexts.tf_idf(mot,football)\n",
        "  poids[\"football\"]=(tf_idf)\n",
        "  print(\"tf_idf of \",motO,\" in document football is\", tf_idf)\n",
        "  poid_max = -1\n",
        "  meilleur_doc =\"DOC\"\n",
        "\n",
        "  for cle, valeur in poids.items():\n",
        "    if valeur > poid_max:\n",
        "        poid_max = valeur\n",
        "        meilleur_doc = cle\n",
        "    elif valeur==poid_max:\n",
        "     poids = {\n",
        "    \"sport\": nbocc[0],\n",
        "    \"tennis\": nbocc[1],\n",
        "    \"basket\": nbocc[2],\n",
        "    \"equitation\":nbocc[3] ,\n",
        "    \"football\":nbocc[4],}\n",
        "\n",
        "     for cle, valeur in poids.items():\n",
        "       if valeur > poid_max:\n",
        "        poid_max = valeur\n",
        "        meilleur_doc = cle\n",
        "\n",
        "  print(\"**************************************************************\")\n",
        "\n",
        "\n",
        "\n",
        "  print(\"le documents le plus pertinent est ''''' \", meilleur_doc ,\" '''''\")\n",
        "\n"
      ],
      "metadata": {
        "id": "bnPagYjydOZE"
      },
      "execution_count": null,
      "outputs": []
    },
    {
      "cell_type": "code",
      "source": [
        "def fonction_gramm(word):\n",
        "    try:\n",
        "        words = nltk.word_tokenize(word)\n",
        "        tagged = nltk.pos_tag(words)\n",
        "        print(\"Fonction grammaticale :\" ,end=\" \")\n",
        "        for word, tag in tagged:\n",
        "            print(word, \"-\", tag)\n",
        "    except Exception as e:\n",
        "        print(str(e))\n"
      ],
      "metadata": {
        "id": "pDd6RI2Qef76"
      },
      "execution_count": null,
      "outputs": []
    },
    {
      "cell_type": "code",
      "source": [
        "def sign_syn_anto(mot):\n",
        "  from nltk.corpus import wordnet\n",
        "  syns= wordnet.synsets(mot)\n",
        "  print(\"definition de mot :\", syns[0].definition())\n",
        "  synonyms = []\n",
        "  antonyms = []\n",
        "  for syn in syns:\n",
        "    for l in syn.lemmas():\n",
        "        synonyms.append(l.name())\n",
        "        if l.antonyms():\n",
        "            antonyms.append(l.antonyms()[0].name())\n",
        "  print(\"**************************************************************\")\n",
        "\n",
        "  if synonyms:\n",
        "    print(\"Synonymes :\", \", \".join(synonyms))\n",
        "\n",
        "  else:\n",
        "        print(\"Aucun synonyme trouvé.\")\n",
        "  print(\"**************************************************************\")\n",
        "\n",
        "  if antonyms:\n",
        "        print(\"Antonymes :\", \", \".join(antonyms))\n",
        "  else:\n",
        "        print(\"Aucun antonyme trouvé.\")\n"
      ],
      "metadata": {
        "id": "eylBiOW9iDUh"
      },
      "execution_count": null,
      "outputs": []
    },
    {
      "cell_type": "code",
      "source": [
        "from ipywidgets import widgets\n",
        "from IPython.display import display\n",
        "def display_message(b):\n",
        "   from nltk.stem import PorterStemmer\n",
        "   mot=text.value\n",
        "   ps = PorterStemmer()\n",
        "   motN=ps.stem(mot)\n",
        "   df=listDocument(motN,mot)\n",
        "   print(\"**************************************************************\")\n",
        "   nbocc=nboccurence(motN,mot)\n",
        "   print(\"**************************************************************\")\n",
        "   poids_tfidf(motN,mot,df,nbocc)\n",
        "   print(\"**************************************************************\")\n",
        "   fonction_gramm(mot)\n",
        "   print(\"**************************************************************\")\n",
        "   sign_syn_anto(mot)\n",
        "\n",
        "text = widgets.Text(description=\"mot:\")\n",
        "\n",
        "button = widgets.Button(description=\"recherche\")\n",
        "button.on_click(display_message)\n",
        "\n",
        "label = widgets.Label(value=\" Saisissez votre mot\")\n",
        "\n",
        "display(label)\n",
        "display(text)\n",
        "display(button)\n"
      ],
      "metadata": {
        "colab": {
          "base_uri": "https://localhost:8080/",
          "height": 649,
          "referenced_widgets": [
            "17c9efb3bc0f4b4685e5f62b2d947f19",
            "d6a80cae86d54b60aa678c2f37d7d92f",
            "b78e636ee9a64630ad95dfcf95380463",
            "1403abe1c1f4449392595a4305dda271",
            "6c8637bc33ae4967993fbe5dbcf30a09",
            "24621900d4a049d2bbed5192b607b1c2",
            "556dccc0f8614ef6a108cc6f6183cf87",
            "f91cd6f62ec44e8e830953cc18329ce8",
            "2c65bdd5c03044479b607f0c68e87136"
          ]
        },
        "id": "wrs3PMn6x5Oz",
        "outputId": "3dd0947a-a6ed-4cf5-caa9-5f31737bdf51"
      },
      "execution_count": null,
      "outputs": [
        {
          "output_type": "display_data",
          "data": {
            "text/plain": [
              "Label(value=' Saisissez votre mot')"
            ],
            "application/vnd.jupyter.widget-view+json": {
              "version_major": 2,
              "version_minor": 0,
              "model_id": "17c9efb3bc0f4b4685e5f62b2d947f19"
            }
          },
          "metadata": {}
        },
        {
          "output_type": "display_data",
          "data": {
            "text/plain": [
              "Text(value='', description='mot:')"
            ],
            "application/vnd.jupyter.widget-view+json": {
              "version_major": 2,
              "version_minor": 0,
              "model_id": "1403abe1c1f4449392595a4305dda271"
            }
          },
          "metadata": {}
        },
        {
          "output_type": "display_data",
          "data": {
            "text/plain": [
              "Button(description='recherche', style=ButtonStyle())"
            ],
            "application/vnd.jupyter.widget-view+json": {
              "version_major": 2,
              "version_minor": 0,
              "model_id": "556dccc0f8614ef6a108cc6f6183cf87"
            }
          },
          "metadata": {}
        },
        {
          "output_type": "stream",
          "name": "stdout",
          "text": [
            "le mot ' tennis ' exist dans :\n",
            "\t* Le document sport\n",
            "\t* Le document tennis\n",
            "**************************************************************\n",
            "le mot ' tennis ' exist dans Le document sport  ' 2 fois'\n",
            "le mot ' tennis ' exist dans Le document tennis  ' 9 fois'\n",
            "le mot ' tennis ' exist dans Le document basket  ' 0 fois'\n",
            "le mot ' tennis ' exist dans Le document equitation  ' 0 fois'\n",
            "le mot ' tennis ' exist dans Le document football  ' 0 fois'\n",
            "**************************************************************\n",
            "poids du mot tennis  in document  sport  = 1.5514150692459345\n",
            "poids du mot tennis  in document  tennis  = 2.929587247933441\n",
            "poids du mot tennis  in document  basket  = 0\n",
            "poids du mot tennis  in document  equitation  = 0\n",
            "poids du mot tennis  in document  football  = 0\n",
            "**************************************************************\n",
            "tf_idf of  tennis  in document sport is 0.0023892848288765453\n",
            "tf_idf of  tennis  in document tennis is 0.020930498951440092\n",
            "tf_idf of  tennis  in document basket is 0.0\n",
            "tf_idf of  tennis  in document equitation is 0.0\n",
            "tf_idf of  tennis  in document football is 0.0\n",
            "**************************************************************\n",
            "le documents le plus pertinent est '''''  tennis  '''''\n",
            "**************************************************************\n",
            "Fonction grammaticale : tennis - NN\n",
            "**************************************************************\n",
            "definition de mot : a game played with rackets by two or four players who hit a ball back and forth over a net that divides the court\n",
            "**************************************************************\n",
            "Synonymes : tennis, lawn_tennis\n",
            "**************************************************************\n",
            "Aucun antonyme trouvé.\n"
          ]
        }
      ]
    }
  ]
}